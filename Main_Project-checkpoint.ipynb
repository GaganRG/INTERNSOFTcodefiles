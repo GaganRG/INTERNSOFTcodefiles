{
 "cells": [
  {
   "cell_type": "code",
   "execution_count": 1,
   "metadata": {},
   "outputs": [],
   "source": [
    "import os\n",
    "import time\n",
    "import subprocess\n",
    "import json"
   ]
  },
  {
   "cell_type": "code",
   "execution_count": 2,
   "metadata": {},
   "outputs": [],
   "source": [
    "import wolframalpha\n",
    "import requests\n",
    "import webbrowser\n",
    "import wikipedia\n",
    "import datetime"
   ]
  },
  {
   "cell_type": "code",
   "execution_count": 3,
   "metadata": {},
   "outputs": [],
   "source": [
    "import speech_recognition as sr\n",
    "import pyttsx3\n"
   ]
  },
  {
   "cell_type": "code",
   "execution_count": 4,
   "metadata": {},
   "outputs": [
    {
     "name": "stdout",
     "output_type": "stream",
     "text": [
      "LOADING YOUR A.I PERSONAL ASSISTANT BOB\n"
     ]
    }
   ],
   "source": [
    "print('LOADING YOUR A.I PERSONAL ASSISTANT BOB')"
   ]
  },
  {
   "cell_type": "code",
   "execution_count": 5,
   "metadata": {},
   "outputs": [],
   "source": [
    "engine = pyttsx3.init('sapi5')\n",
    "voices = engine.getProperty('voices')\n",
    "engine.setProperty(\"voice\", 'voices[0].id')"
   ]
  },
  {
   "cell_type": "code",
   "execution_count": 6,
   "metadata": {},
   "outputs": [],
   "source": [
    "def speak(text):\n",
    "    engine.say(text)\n",
    "    engine.runAndWait()\n",
    "    print(text)"
   ]
  },
  {
   "cell_type": "code",
   "execution_count": 7,
   "metadata": {},
   "outputs": [],
   "source": [
    "def wishMe():\n",
    "    hour = datetime.datetime.now().hour\n",
    "    if hour >= 0 and hour < 12:\n",
    "        speak(\"Hello, good morning Mr. Gagan, Rise and shine\")\n",
    "    elif hour >= 12 and hour < 18:\n",
    "        speak(\"Hello, good afternoon Mr. Gagan, Its too sunny to go out\")\n",
    "    else:\n",
    "        speak(\"Hello, good evening Mr. Gagan, Finish your work ASAP and go to sleep\")"
   ]
  },
  {
   "cell_type": "code",
   "execution_count": 8,
   "metadata": {},
   "outputs": [],
   "source": [
    "def takeCommand():\n",
    "    r = sr.Recognizer()\n",
    "    with sr.Microphone() as source:\n",
    "        print(\"I am listening\")\n",
    "        #Listening to voice command\n",
    "        audio = r.listen(source)\n",
    "        try:\n",
    "            #Recognizing voice command\n",
    "            statement = r.recognize_google(audio, language='en-in')\n",
    "            print(f\"user said:{statement}\\n\")\n",
    "        except Exception as e:\n",
    "            speak(\"Pardon\")\n",
    "            return \"None\"\n",
    "        return statement\n"
   ]
  },
  {
   "cell_type": "code",
   "execution_count": 9,
   "metadata": {},
   "outputs": [
    {
     "name": "stdout",
     "output_type": "stream",
     "text": [
      "LOADING YOUR A.I PERSONAL ASSISTANT BOB\n",
      "Hello, good evening Mr. Gagan, Finish your work ASAP and go to sleep\n"
     ]
    }
   ],
   "source": [
    "speak(\"LOADING YOUR A.I PERSONAL ASSISTANT BOB\")\n",
    "wishMe()"
   ]
  },
  {
   "cell_type": "code",
   "execution_count": 11,
   "metadata": {},
   "outputs": [
    {
     "name": "stdout",
     "output_type": "stream",
     "text": [
      "Hello, good evening Mr. Gagan, Finish your work ASAP and go to sleep\n",
      "How can I help you?\n",
      "I am listening\n",
      "Pardon\n",
      "How can I help you?\n",
      "I am listening\n",
      "user said:thanks man\n",
      "\n",
      "MY PLEASURE HELPING YOU,BOB IS ALWAYS HERE TO HELP YOU\n",
      "How can I help you?\n",
      "I am listening\n",
      "user said:stop\n",
      "\n",
      "Your AI personal assistant BOB is shutting down\n",
      "Your AI personal assistant BOB is shutting down\n"
     ]
    }
   ],
   "source": [
    "if __name__ == '__main__':\n",
    "    wishMe()\n",
    "    while True:\n",
    "        speak(\"How can I help you?\")\n",
    "        statement = takeCommand().lower()\n",
    "        if statement == 0:\n",
    "            continue\n",
    "        if \"good bye\" in statement or \"stop\" in statement or \"ok bye\" in statement:\n",
    "            speak(\"Your AI personal assistant BOB is shutting down\")\n",
    "            print(\"Your AI personal assistant BOB is shutting down\")\n",
    "            break\n",
    "        if \"wikipedia\" in statement:\n",
    "            speak(\"Looking up on wikipedia\")\n",
    "            statement = statement.replace(\"wikipedia\", \" \")\n",
    "            results = wikipedia.summary(statement, sentences = 3)\n",
    "            speak(\"According to wikipedia...\")\n",
    "            print(results)\n",
    "            speak(results)\n",
    "            \n",
    "        elif \"open\" in statement:\n",
    "            website = statement.replace(\"open \",\"\")\n",
    "            webbrowser.open_new_tab(\"www.\"+website+\".com\")\n",
    "            speak(\"Opening \"+website)\n",
    "            time.sleep(5)\n",
    "            \n",
    "        elif \"weather\" in statement:\n",
    "            api_key=\"8ef61edcf1c576d65d836254e11ea420\"\n",
    "            base_url=\"https://api.openweathermap.org/data/2.5/weather?\"\n",
    "            speak(\"whats the city name\")\n",
    "            city_name=takeCommand()\n",
    "            complete_url=base_url+\"appid=\"+api_key+\"&q=\"+city_name\n",
    "            response = requests.get(complete_url)\n",
    "            x=response.json()\n",
    "            if x[\"cod\"]!=\"404\":\n",
    "                y=x[\"main\"]\n",
    "                current_temperature = y[\"temp\"]\n",
    "                current_humidity = y[\"humidity\"]\n",
    "                z = x[\"weather\"]\n",
    "                weather_description = z[0][\"description\"]\n",
    "                speak(\" Temperature in kelvin unit is \" +\n",
    "                      str(current_temperature) +\n",
    "                      \"\\n humidity in percentage is \" +\n",
    "                      str(current_humidity) +\n",
    "                      \"\\n description  \" +\n",
    "                      str(weather_description))\n",
    "                print(\" Temperature in kelvin unit = \" +\n",
    "                      str(current_temperature) +\n",
    "                      \"\\n humidity (in percentage) = \" +\n",
    "                      str(current_humidity) +\n",
    "                      \"\\n description = \" +\n",
    "                      str(weather_description))\n",
    "\n",
    "            else:\n",
    "                speak(\" City Not Found \")\n",
    "                \n",
    "        elif \"time\" in statement:\n",
    "            strTime = datetime.datetime.now().strftime(\"%H:%M:%S\")\n",
    "            speak(f\"the time is {strTime}\")\n",
    "            \n",
    "        elif \"who are you\" in statement or \"what can you do\" in statement:\n",
    "            speak('I am BOB version 1 point 0 your personal assistant. I am programmed to minor tasks like'\n",
    "                  'opening YouTube, Gmail, Google chrome and stack overflow, Predict current time, take a photo, search Wikipedia to abstract required data, predict weather in different cities'\n",
    "                  'get top headline news from Times of India and can answer computational and geographical questions too!')\n",
    "                  \n",
    "        elif \"who made you\" in statement or \"who created you\" in statement or \"who discovered you\" in statement:\n",
    "            speak(\"I WAS BUILT BY THE GREAT GAGAN\")\n",
    "            print(\"I WAS BUILT BY THE GREAT GAGAN\")\n",
    "                  \n",
    "        elif \"open stack overflow\" in statement:\n",
    "            webbrowser.open_new_tab(\"https://stackoverflow.com/login\")\n",
    "            time.sleep(5)\n",
    "                  \n",
    "        elif \"news\" in statement:\n",
    "            news = webbrowser.open_new_tab(\"https://timesofindia.indiatimes.com/home/headlines\")\n",
    "            speak(\"here are some headlines for you from the times of India - happy reading\")\n",
    "            time.sleep(7)\n",
    "                  \n",
    "        elif \"search\" in statement or \"look up\" in statement:\n",
    "            statement = statement.replace(\"search \",\"\")\n",
    "            statement = statement.replace(\"look up \",\"\")\n",
    "            webbrowser.open_new_tab(statement)\n",
    "        \n",
    "        elif \"ask\" in statement:\n",
    "            speak(\"I can answer to computational and geographical questions too try me !! what do you want to ask\")\n",
    "            question = takeCommand()\n",
    "            app_id=\"R2K75H-7ELALHR35X\"\n",
    "            Client = wolframalpha.Client('R2K75H-7ELALHR35X')\n",
    "            res = Client.query(question)\n",
    "            answer = next(res.results).text\n",
    "            speak(answer)\n",
    "            print(answer)\n",
    "            \n",
    "        elif \"thanks\" in statement:\n",
    "            speak(\"MY PLEASURE HELPING YOU,BOB IS ALWAYS HERE TO HELP YOU\")\n",
    "                  \n",
    "        elif \"log off\" in statement or \"sign out\" in statement or \"shutdown\" in statement or \"shut down\" in statement:\n",
    "            speak(\"ok, Your pc will shut down in 10 seconds - make sure you have saved and exit from all applications\")\n",
    "            subprocess.call(['shutdown',\"/l\"])\n",
    "                  \n",
    "    \n",
    "time.sleep(3)"
   ]
  },
  {
   "cell_type": "code",
   "execution_count": null,
   "metadata": {},
   "outputs": [],
   "source": []
  }
 ],
 "metadata": {
  "kernelspec": {
   "display_name": "Python 3",
   "language": "python",
   "name": "python3"
  },
  "language_info": {
   "codemirror_mode": {
    "name": "ipython",
    "version": 3
   },
   "file_extension": ".py",
   "mimetype": "text/x-python",
   "name": "python",
   "nbconvert_exporter": "python",
   "pygments_lexer": "ipython3",
   "version": "3.8.5"
  }
 },
 "nbformat": 4,
 "nbformat_minor": 4
}
